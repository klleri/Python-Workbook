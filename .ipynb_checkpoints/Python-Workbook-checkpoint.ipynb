{
 "cells": [
  {
   "cell_type": "markdown",
   "metadata": {},
   "source": [
    "#### Exercise 1: Mailing Address\n",
    "\n",
    "\n",
    "Create a program that displays your name and complete mailing address formatted in\n",
    "the manner that you would usually see it on the outside of an envelope. Your program\n",
    "does not need to read any input from the user."
   ]
  },
  {
   "cell_type": "code",
   "execution_count": 1,
   "metadata": {},
   "outputs": [
    {
     "name": "stdout",
     "output_type": "stream",
     "text": [
      "Lucas Silva \n",
      "Unit XXYY \n",
      "17 Principal Road \n",
      "Poços de Caldas, MG 0248-00\n"
     ]
    }
   ],
   "source": [
    "print('Lucas Silva \\nUnit XXYY \\n17 Principal Road \\nPoços de Caldas, MG 0248-00')"
   ]
  },
  {
   "cell_type": "markdown",
   "metadata": {},
   "source": [
    "#### Exercise 2: Hello\n",
    "\n",
    "Write a program that asks the user to enter his or her name. The program should\n",
    "respond with a message that says hello to the user, using his or her name."
   ]
  },
  {
   "cell_type": "code",
   "execution_count": 5,
   "metadata": {},
   "outputs": [
    {
     "name": "stdout",
     "output_type": "stream",
     "text": [
      "What is your name?\n",
      "Name:114\n",
      "Please, use only letters.\n",
      "What is your name?\n",
      "Name:Lucas Silva\n",
      "Hello Lucas Silva, What's the craic?\n"
     ]
    }
   ],
   "source": [
    "import re #Regular Expressions\n",
    "\n",
    "def checkName(nameString):\n",
    "    match = re.match(r'[a-zA-Z]+', nameString)\n",
    "    return match is not None\n",
    "\n",
    "while (True):\n",
    "    name = (input('What is your name?\\nName:'))\n",
    "    if checkName(name) == True:\n",
    "        print('Hello {}, What\\'s the craic?'.format(name))\n",
    "        break\n",
    "    else:\n",
    "        print(\"Please, use only letters.\")   \n"
   ]
  },
  {
   "cell_type": "markdown",
   "metadata": {},
   "source": [
    "#### Exercise 3: Area of a Room\n",
    "\n",
    "Write a program that asks the user to enter the width and length of a room. Once\n",
    "the values have been read, your program should compute and display the area of the\n",
    "room. The length and the width will be entered as floating point numbers. Include\n",
    "units in your prompt and output message; either feet or meters, depending on which\n",
    "unit you are more comfortable working with."
   ]
  },
  {
   "cell_type": "code",
   "execution_count": 6,
   "metadata": {},
   "outputs": [
    {
     "name": "stdout",
     "output_type": "stream",
     "text": [
      "Insert width, please. \n",
      " width:10\n",
      "Insert height, please. \n",
      " height:a\n",
      "Input invalid\n",
      "Insert height, please. \n",
      " height:12\n",
      "Insert lenght, please. \n",
      " lenght:1\n",
      "Size of the room is: 120.0 units.\n"
     ]
    }
   ],
   "source": [
    "size = []\n",
    "sizeNames = ['width', 'height', 'lenght']\n",
    "\n",
    "\n",
    "def sizeFinal(vector):\n",
    "    aux2 = 1\n",
    "    for y in size:\n",
    "        aux2 = y * aux2\n",
    "    return aux2\n",
    "\n",
    "for x in sizeNames:\n",
    "    while True:\n",
    "        try:\n",
    "            aux = float(input('Insert {}, please. \\n {}:'.format(x,x)))\n",
    "            size.append(float(aux))\n",
    "            break\n",
    "        except:\n",
    "            print('Input invalid')\n",
    "        \n",
    "print('Size of the room is: {} units.'.format(sizeFinal(size)))"
   ]
  },
  {
   "cell_type": "markdown",
   "metadata": {},
   "source": [
    "#### Exercise 4: Area of a Field\n",
    "\n",
    "Create a program that reads the length and width of a farmer’s field from the user in\n",
    "feet. Display the area of the field in acres.<br>\n",
    "Hint: There are 43,560 square feet in an acre."
   ]
  },
  {
   "cell_type": "code",
   "execution_count": null,
   "metadata": {},
   "outputs": [],
   "source": [
    "\n",
    "size = []\n",
    "sizeNames = ['width', 'lenght']\n",
    "\n",
    "def convertAcres(sizes):\n",
    "    aux2 = 1\n",
    "    for y in sizes:\n",
    "        aux2 = y * aux2\n",
    "        print(aux2)\n",
    "    aux2 = aux2 / 43560\n",
    "    return aux2\n",
    "    \n",
    "\n",
    "for x in sizeNames:\n",
    "    while True:\n",
    "        try:\n",
    "            aux = float(input('Insert {} please \\n {}:'.format(x,x)))\n",
    "            break\n",
    "        except:\n",
    "            print('Just numbers are allowed')\n",
    "        size.append(float(aux))\n",
    "\n",
    "\n",
    "print('There are : {} acres'.format(convertAcres(size)))"
   ]
  }
 ],
 "metadata": {
  "kernelspec": {
   "display_name": "Python 3",
   "language": "python",
   "name": "python3"
  },
  "language_info": {
   "codemirror_mode": {
    "name": "ipython",
    "version": 3
   },
   "file_extension": ".py",
   "mimetype": "text/x-python",
   "name": "python",
   "nbconvert_exporter": "python",
   "pygments_lexer": "ipython3",
   "version": "3.8.5"
  }
 },
 "nbformat": 4,
 "nbformat_minor": 4
}
