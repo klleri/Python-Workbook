{
 "cells": [
  {
   "cell_type": "markdown",
   "metadata": {},
   "source": [
    "#### Exercise 1: Mailing Address\n",
    "\n",
    "\n",
    "Create a program that displays your name and complete mailing address formatted in\n",
    "the manner that you would usually see it on the outside of an envelope. Your program\n",
    "does not need to read any input from the user."
   ]
  },
  {
   "cell_type": "code",
   "execution_count": 1,
   "metadata": {},
   "outputs": [
    {
     "name": "stdout",
     "output_type": "stream",
     "text": [
      "Lucas Silva \n",
      "Unit XXYY \n",
      "17 Principal Road \n",
      "Poços de Caldas, MG 0248-00\n"
     ]
    }
   ],
   "source": [
    "print('Lucas Silva \\nUnit XXYY \\n17 Principal Road \\nPoços de Caldas, MG 0248-00')"
   ]
  },
  {
   "cell_type": "markdown",
   "metadata": {},
   "source": [
    "#### Exercise 2: Hello\n",
    "\n",
    "Write a program that asks the user to enter his or her name. The program should\n",
    "respond with a message that says hello to the user, using his or her name."
   ]
  },
  {
   "cell_type": "code",
   "execution_count": 5,
   "metadata": {},
   "outputs": [
    {
     "name": "stdout",
     "output_type": "stream",
     "text": [
      "What is your name?\n",
      "Name:114\n",
      "Please, use only letters.\n",
      "What is your name?\n",
      "Name:Lucas Silva\n",
      "Hello Lucas Silva, What's the craic?\n"
     ]
    }
   ],
   "source": [
    "import re #Regular Expressions\n",
    "\n",
    "def checkName(nameString):\n",
    "    match = re.match(r'[a-zA-Z]+', nameString)\n",
    "    return match is not None\n",
    "\n",
    "while (True):\n",
    "    name = (input('What is your name?\\nName:'))\n",
    "    if checkName(name) == True:\n",
    "        print('Hello {}, What\\'s the craic?'.format(name))\n",
    "        break\n",
    "    else:\n",
    "        print(\"Please, use only letters.\")   \n"
   ]
  },
  {
   "cell_type": "markdown",
   "metadata": {},
   "source": [
    "#### Exercise 3: Area of a Room\n",
    "\n",
    "Write a program that asks the user to enter the width and length of a room. Once\n",
    "the values have been read, your program should compute and display the area of the\n",
    "room. The length and the width will be entered as floating point numbers. Include\n",
    "units in your prompt and output message; either feet or meters, depending on which\n",
    "unit you are more comfortable working with."
   ]
  },
  {
   "cell_type": "code",
   "execution_count": 1,
   "metadata": {},
   "outputs": [
    {
     "name": "stdout",
     "output_type": "stream",
     "text": [
      "Insert width, please. \n",
      " width:10\n",
      "Insert height, please. \n",
      " height:25\n",
      "Insert lenght, please. \n",
      " lenght:10\n",
      "Size of the room is: 2500.0 units.\n"
     ]
    }
   ],
   "source": [
    "size = []\n",
    "sizeNames = ['width', 'height', 'lenght']\n",
    "\n",
    "\n",
    "def sizeFinal(vector):\n",
    "    aux2 = 1\n",
    "    for y in size:\n",
    "        aux2 = y * aux2\n",
    "    return aux2\n",
    "\n",
    "for x in sizeNames:\n",
    "    while True:\n",
    "        try:\n",
    "            aux = float(input('Insert {}, please. \\n {}:'.format(x,x)))\n",
    "            size.append(float(aux))\n",
    "            break\n",
    "        except:\n",
    "            print('Input invalid')\n",
    "        \n",
    "print('Size of the room is: {} units.'.format(sizeFinal(size)))"
   ]
  },
  {
   "cell_type": "markdown",
   "metadata": {},
   "source": [
    "#### Exercise 4: Area of a Field\n",
    "\n",
    "Create a program that reads the length and width of a farmer’s field from the user in\n",
    "feet. Display the area of the field in acres.<br>\n",
    "Hint: There are 43,560 square feet in an acre."
   ]
  },
  {
   "cell_type": "code",
   "execution_count": 2,
   "metadata": {},
   "outputs": [
    {
     "name": "stdout",
     "output_type": "stream",
     "text": [
      "Insert width please \n",
      " width:10\n",
      "Insert lenght please \n",
      " lenght:25\n",
      "There are : 2.295684113865932e-05 acres\n"
     ]
    }
   ],
   "source": [
    "\n",
    "size = []\n",
    "sizeNames = ['width', 'lenght']\n",
    "\n",
    "def convertAcres(sizes):\n",
    "    aux2 = 1\n",
    "    for y in sizes:\n",
    "        aux2 = y * aux2\n",
    "        print(aux2)\n",
    "    aux2 = aux2 / 43560\n",
    "    return aux2\n",
    "    \n",
    "\n",
    "for x in sizeNames:\n",
    "    while True:\n",
    "        try:\n",
    "            aux = float(input('Insert {} please \\n {}:'.format(x,x)))\n",
    "            break\n",
    "        except:\n",
    "            print('Just numbers are allowed')\n",
    "        size.append(float(aux))\n",
    "\n",
    "\n",
    "print('There are : {} acres'.format(convertAcres(size)))"
   ]
  },
  {
   "cell_type": "markdown",
   "metadata": {},
   "source": [
    "#### Exercise 5: Bottle Deposits\n",
    "\n",
    "In many jurisdictions a small deposit is added to drink containers to encourage people\n",
    "to recycle them. In one particular jurisdiction, drink containers holding one liter or\n",
    "less have a 0,10  deposit, and drink containers holding more than one liter have a\n",
    "$0.25 deposit.\n",
    "Write a program that reads the number of containers of each size from the user.\n",
    "Your program should continue by computing and displaying the refund that will be\n",
    "received for returning those containers. Format the output so that it includes a dollar\n",
    "sign and always displays exactly two decimal places."
   ]
  },
  {
   "cell_type": "code",
   "execution_count": 3,
   "metadata": {},
   "outputs": [
    {
     "name": "stdout",
     "output_type": "stream",
     "text": [
      "Which Container are you holding? \n",
      "Press 0 - No more bottles\n",
      "Press 1 - One liter bottle \n",
      "Press 2 - More than one liter bottle \n",
      "Option:  1\n",
      "Which Container are you holding? \n",
      "Press 0 - No more bottles\n",
      "Press 1 - One liter bottle \n",
      "Press 2 - More than one liter bottle \n",
      "Option:  1\n",
      "Which Container are you holding? \n",
      "Press 0 - No more bottles\n",
      "Press 1 - One liter bottle \n",
      "Press 2 - More than one liter bottle \n",
      "Option:  2\n",
      "Which Container are you holding? \n",
      "Press 0 - No more bottles\n",
      "Press 1 - One liter bottle \n",
      "Press 2 - More than one liter bottle \n",
      "Option:  jhvh\n",
      "Input invalid\n",
      "Which Container are you holding? \n",
      "Press 0 - No more bottles\n",
      "Press 1 - One liter bottle \n",
      "Press 2 - More than one liter bottle \n",
      "Option:  0\n",
      "You are going to receive $ 0.45\n"
     ]
    }
   ],
   "source": [
    "oneLiter = 0\n",
    "moreLiters = 0\n",
    "\n",
    "while True:\n",
    "    print(\"Which Container are you holding? \")\n",
    "    print(\"Press 0 - No more bottles\")\n",
    "    print(\"Press 1 - One liter bottle \")\n",
    "    print(\"Press 2 - More than one liter bottle \")\n",
    "    try:\n",
    "        aux = float(input(\"Option:  \"))\n",
    "        if (0 <= aux < 3):\n",
    "            if (aux == 1):\n",
    "                oneLiter +=1\n",
    "            if (aux == 2):\n",
    "                moreLiters +=1\n",
    "            if (aux == 0):\n",
    "                a =(oneLiter * 0.1) + (moreLiters * 0.25)\n",
    "                print(\"You are going to receive $ {}\".format(a))\n",
    "                break\n",
    "        else:\n",
    "            print('Input invalid')  \n",
    "    except:\n",
    "        print('Input invalid')\n",
    "        "
   ]
  },
  {
   "cell_type": "markdown",
   "metadata": {},
   "source": [
    "Exercise 6: Tax and Tip\n",
    "\n",
    "The program that you create for this exercise will begin by reading the cost of a meal\n",
    "ordered at a restaurant from the user. Then your program will compute the tax and\n",
    "tip for the meal. Use your local tax rate when computing the amount of tax owing.\n",
    "Compute the tip as 18 percent of the meal amount (without the tax). The output from\n",
    "your program should include the tax amount, the tip amount, and the grand total for\n",
    "the meal including both the tax and the tip. Format the output so that all of the values\n",
    "are displayed using two decimal places."
   ]
  },
  {
   "cell_type": "code",
   "execution_count": null,
   "metadata": {},
   "outputs": [],
   "source": []
  }
 ],
 "metadata": {
  "kernelspec": {
   "display_name": "Python 3",
   "language": "python",
   "name": "python3"
  },
  "language_info": {
   "codemirror_mode": {
    "name": "ipython",
    "version": 3
   },
   "file_extension": ".py",
   "mimetype": "text/x-python",
   "name": "python",
   "nbconvert_exporter": "python",
   "pygments_lexer": "ipython3",
   "version": "3.8.5"
  }
 },
 "nbformat": 4,
 "nbformat_minor": 4
}
